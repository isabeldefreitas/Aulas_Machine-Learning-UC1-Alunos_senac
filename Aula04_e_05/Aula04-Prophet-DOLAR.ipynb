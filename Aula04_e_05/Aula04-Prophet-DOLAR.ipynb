{
 "cells": [
  {
   "cell_type": "code",
   "execution_count": 1,
   "id": "1e7b28dc-fc6f-476a-8463-8a35466b6ef0",
   "metadata": {},
   "outputs": [],
   "source": [
    "import pandas as pd"
   ]
  },
  {
   "cell_type": "code",
   "execution_count": 2,
   "id": "b0702d54-ef16-4980-88fe-5fa2cf262153",
   "metadata": {},
   "outputs": [],
   "source": [
    "df_original = pd.read_csv(\"USD_BRL Dados Históricos.csv\")"
   ]
  },
  {
   "cell_type": "code",
   "execution_count": 3,
   "id": "48165046-ed4a-465c-b172-748e93e6aa75",
   "metadata": {},
   "outputs": [
    {
     "data": {
      "text/html": [
       "<div>\n",
       "<style scoped>\n",
       "    .dataframe tbody tr th:only-of-type {\n",
       "        vertical-align: middle;\n",
       "    }\n",
       "\n",
       "    .dataframe tbody tr th {\n",
       "        vertical-align: top;\n",
       "    }\n",
       "\n",
       "    .dataframe thead th {\n",
       "        text-align: right;\n",
       "    }\n",
       "</style>\n",
       "<table border=\"1\" class=\"dataframe\">\n",
       "  <thead>\n",
       "    <tr style=\"text-align: right;\">\n",
       "      <th></th>\n",
       "      <th>Data</th>\n",
       "      <th>Último</th>\n",
       "      <th>Abertura</th>\n",
       "      <th>Máxima</th>\n",
       "      <th>Mínima</th>\n",
       "      <th>Vol.</th>\n",
       "      <th>Var%</th>\n",
       "    </tr>\n",
       "  </thead>\n",
       "  <tbody>\n",
       "    <tr>\n",
       "      <th>0</th>\n",
       "      <td>03.07.2025</td>\n",
       "      <td>5,4090</td>\n",
       "      <td>5,4237</td>\n",
       "      <td>5,4505</td>\n",
       "      <td>5,4040</td>\n",
       "      <td>NaN</td>\n",
       "      <td>-0,28%</td>\n",
       "    </tr>\n",
       "    <tr>\n",
       "      <th>1</th>\n",
       "      <td>02.07.2025</td>\n",
       "      <td>5,4240</td>\n",
       "      <td>5,4585</td>\n",
       "      <td>5,4985</td>\n",
       "      <td>5,4151</td>\n",
       "      <td>NaN</td>\n",
       "      <td>-0,64%</td>\n",
       "    </tr>\n",
       "    <tr>\n",
       "      <th>2</th>\n",
       "      <td>01.07.2025</td>\n",
       "      <td>5,4588</td>\n",
       "      <td>5,4321</td>\n",
       "      <td>5,4703</td>\n",
       "      <td>5,4183</td>\n",
       "      <td>NaN</td>\n",
       "      <td>0,48%</td>\n",
       "    </tr>\n",
       "    <tr>\n",
       "      <th>3</th>\n",
       "      <td>30.06.2025</td>\n",
       "      <td>5,4326</td>\n",
       "      <td>5,4846</td>\n",
       "      <td>5,5073</td>\n",
       "      <td>5,4234</td>\n",
       "      <td>NaN</td>\n",
       "      <td>-0,97%</td>\n",
       "    </tr>\n",
       "    <tr>\n",
       "      <th>4</th>\n",
       "      <td>27.06.2025</td>\n",
       "      <td>5,4856</td>\n",
       "      <td>5,4880</td>\n",
       "      <td>5,5045</td>\n",
       "      <td>5,4587</td>\n",
       "      <td>NaN</td>\n",
       "      <td>-0,06%</td>\n",
       "    </tr>\n",
       "  </tbody>\n",
       "</table>\n",
       "</div>"
      ],
      "text/plain": [
       "         Data  Último Abertura  Máxima  Mínima  Vol.    Var%\n",
       "0  03.07.2025  5,4090   5,4237  5,4505  5,4040   NaN  -0,28%\n",
       "1  02.07.2025  5,4240   5,4585  5,4985  5,4151   NaN  -0,64%\n",
       "2  01.07.2025  5,4588   5,4321  5,4703  5,4183   NaN   0,48%\n",
       "3  30.06.2025  5,4326   5,4846  5,5073  5,4234   NaN  -0,97%\n",
       "4  27.06.2025  5,4856   5,4880  5,5045  5,4587   NaN  -0,06%"
      ]
     },
     "execution_count": 3,
     "metadata": {},
     "output_type": "execute_result"
    }
   ],
   "source": [
    "df_original.head()"
   ]
  },
  {
   "cell_type": "code",
   "execution_count": 4,
   "id": "1d15f30f-cd9d-4a4a-a497-d528d0c613a7",
   "metadata": {},
   "outputs": [
    {
     "name": "stdout",
     "output_type": "stream",
     "text": [
      "Index(['Data', 'Último', 'Abertura', 'Máxima', 'Mínima', 'Vol.', 'Var%'], dtype='object')\n"
     ]
    }
   ],
   "source": [
    "print(df_original.columns)"
   ]
  },
  {
   "cell_type": "code",
   "execution_count": 5,
   "id": "65745e37-2e19-4bbd-84fd-2752ec0d463f",
   "metadata": {},
   "outputs": [],
   "source": [
    "df_original=df_original.sort_values(by='Data')"
   ]
  },
  {
   "cell_type": "code",
   "execution_count": 6,
   "id": "6fd80fad-2e44-4a7a-ab0e-4cc156294d40",
   "metadata": {},
   "outputs": [],
   "source": [
    "df_original['Data'] = pd.to_datetime(df_original['Data'], dayfirst=True)"
   ]
  },
  {
   "cell_type": "code",
   "execution_count": 7,
   "id": "0f397714-f538-4506-8bae-95954fb7e0c5",
   "metadata": {},
   "outputs": [],
   "source": [
    "df_original['Último'] = pd.to_numeric(df_original['Último'].str.replace(',', '.'), errors='coerce')"
   ]
  },
  {
   "cell_type": "code",
   "execution_count": 8,
   "id": "e4aa4ca5-79d5-4a37-a666-c389a3781403",
   "metadata": {},
   "outputs": [],
   "source": [
    "# dados = {\n",
    "#       'ds' : [x for x in df['Último']],\n",
    "#         'y' : [y for y in df['Data']]\n",
    "#      }\n",
    "# df = pd.DataFrame(dados)\n",
    "\n",
    "# print(df)"
   ]
  },
  {
   "cell_type": "code",
   "execution_count": 9,
   "id": "62245106-ede6-4d0b-ab28-11cd0b120af7",
   "metadata": {},
   "outputs": [
    {
     "name": "stdout",
     "output_type": "stream",
     "text": [
      "\n",
      "\n",
      "Dados extraídos:\n",
      "\n",
      "{'ds': 2    2025-07-01\n",
      "23   2025-06-02\n",
      "1    2025-07-02\n",
      "22   2025-06-03\n",
      "0    2025-07-03\n",
      "21   2025-06-04\n",
      "20   2025-06-05\n",
      "19   2025-06-06\n",
      "18   2025-06-09\n",
      "17   2025-06-10\n",
      "Name: Data, dtype: datetime64[ns], 'y': 2     5.4588\n",
      "23    5.6734\n",
      "1     5.4240\n",
      "22    5.6393\n",
      "0     5.4090\n",
      "21    5.6368\n",
      "20    5.5893\n",
      "19    5.5594\n",
      "18    5.5588\n",
      "17    5.5744\n",
      "Name: Último, dtype: float64}\n",
      "\n",
      "\n"
     ]
    }
   ],
   "source": [
    "data = {\n",
    "    'ds': df_original['Data'].head(10),     # coluna de datas\n",
    "    'y': df_original['Último'].head(10)     # coluna de valores numéricos (cotação do dólar)\n",
    "}\n",
    "\n",
    "print(f\"\\n\\nDados extraídos:\\n\\n{data}\\n\\n\")"
   ]
  },
  {
   "cell_type": "code",
   "execution_count": 23,
   "id": "5efb0700-a43f-4296-a2f2-051b9b6cad3f",
   "metadata": {},
   "outputs": [
    {
     "data": {
      "text/html": [
       "<div>\n",
       "<style scoped>\n",
       "    .dataframe tbody tr th:only-of-type {\n",
       "        vertical-align: middle;\n",
       "    }\n",
       "\n",
       "    .dataframe tbody tr th {\n",
       "        vertical-align: top;\n",
       "    }\n",
       "\n",
       "    .dataframe thead th {\n",
       "        text-align: right;\n",
       "    }\n",
       "</style>\n",
       "<table border=\"1\" class=\"dataframe\">\n",
       "  <thead>\n",
       "    <tr style=\"text-align: right;\">\n",
       "      <th></th>\n",
       "      <th>ds</th>\n",
       "      <th>y</th>\n",
       "    </tr>\n",
       "  </thead>\n",
       "  <tbody>\n",
       "    <tr>\n",
       "      <th>0</th>\n",
       "      <td>2023-01-01</td>\n",
       "      <td>10</td>\n",
       "    </tr>\n",
       "    <tr>\n",
       "      <th>1</th>\n",
       "      <td>2023-01-02</td>\n",
       "      <td>12</td>\n",
       "    </tr>\n",
       "    <tr>\n",
       "      <th>2</th>\n",
       "      <td>2023-01-03</td>\n",
       "      <td>9</td>\n",
       "    </tr>\n",
       "    <tr>\n",
       "      <th>3</th>\n",
       "      <td>2023-01-04</td>\n",
       "      <td>14</td>\n",
       "    </tr>\n",
       "    <tr>\n",
       "      <th>4</th>\n",
       "      <td>2023-01-05</td>\n",
       "      <td>13</td>\n",
       "    </tr>\n",
       "    <tr>\n",
       "      <th>5</th>\n",
       "      <td>2023-01-06</td>\n",
       "      <td>15</td>\n",
       "    </tr>\n",
       "    <tr>\n",
       "      <th>6</th>\n",
       "      <td>2023-01-07</td>\n",
       "      <td>20</td>\n",
       "    </tr>\n",
       "    <tr>\n",
       "      <th>7</th>\n",
       "      <td>2023-01-08</td>\n",
       "      <td>22</td>\n",
       "    </tr>\n",
       "    <tr>\n",
       "      <th>8</th>\n",
       "      <td>2023-01-09</td>\n",
       "      <td>18</td>\n",
       "    </tr>\n",
       "    <tr>\n",
       "      <th>9</th>\n",
       "      <td>2023-01-10</td>\n",
       "      <td>25</td>\n",
       "    </tr>\n",
       "  </tbody>\n",
       "</table>\n",
       "</div>"
      ],
      "text/plain": [
       "          ds   y\n",
       "0 2023-01-01  10\n",
       "1 2023-01-02  12\n",
       "2 2023-01-03   9\n",
       "3 2023-01-04  14\n",
       "4 2023-01-05  13\n",
       "5 2023-01-06  15\n",
       "6 2023-01-07  20\n",
       "7 2023-01-08  22\n",
       "8 2023-01-09  18\n",
       "9 2023-01-10  25"
      ]
     },
     "execution_count": 23,
     "metadata": {},
     "output_type": "execute_result"
    }
   ],
   "source": [
    "df = pd.DataFrame(data)\n",
    "df.head(10)"
   ]
  },
  {
   "cell_type": "code",
   "execution_count": 11,
   "id": "25474037-a1ba-4bf5-81ae-9231d2715a50",
   "metadata": {},
   "outputs": [
    {
     "name": "stdout",
     "output_type": "stream",
     "text": [
      "\n",
      "Dataset carregado:\n",
      "\n",
      "<class 'pandas.core.frame.DataFrame'>\n",
      "Index: 10 entries, 2 to 17\n",
      "Data columns (total 2 columns):\n",
      " #   Column  Non-Null Count  Dtype         \n",
      "---  ------  --------------  -----         \n",
      " 0   ds      10 non-null     datetime64[ns]\n",
      " 1   y       10 non-null     float64       \n",
      "dtypes: datetime64[ns](1), float64(1)\n",
      "memory usage: 240.0 bytes\n"
     ]
    }
   ],
   "source": [
    "print(\"\\nDataset carregado:\\n\")\n",
    "df.info()"
   ]
  },
  {
   "cell_type": "code",
   "execution_count": 21,
   "id": "7985206b-f675-457a-8fdb-de175ef403c1",
   "metadata": {},
   "outputs": [
    {
     "name": "stdout",
     "output_type": "stream",
     "text": [
      "\n",
      "Primeiras linhas do dataset:\n",
      "\n",
      "          ds   y\n",
      "0 2023-01-01  10\n",
      "1 2023-01-02  12\n",
      "2 2023-01-03   9\n",
      "3 2023-01-04  14\n",
      "4 2023-01-05  13\n",
      "5 2023-01-06  15\n",
      "6 2023-01-07  20\n",
      "7 2023-01-08  22\n",
      "8 2023-01-09  18\n",
      "9 2023-01-10  25\n"
     ]
    }
   ],
   "source": [
    "print(\"\\nPrimeiras linhas do dataset:\\n\")\n",
    "print(df.head(10))"
   ]
  },
  {
   "cell_type": "code",
   "execution_count": 13,
   "id": "6c0e6003-7be8-4a91-8a68-8cc3c690fb2b",
   "metadata": {},
   "outputs": [],
   "source": [
    "# # Dados de exemplo\n",
    "# data = {\n",
    "#     'ds': pd.date_range(start='2023-01-01', periods=10, freq='D'),  # 10 dias consecutivos\n",
    "#     'y': [10, 12, 9, 14, 13, 15, 20, 22, 18, 25]  # valores fictícios\n",
    "# }\n",
    "\n",
    "# print(f\"\\n\\n Dados: \\n\\n\\t{data} \\n\\n\")\n",
    "\n",
    "# df = pd.DataFrame(data)\n",
    "\n",
    "\n",
    "# print(f\"\\nDataset \\n\\n\")\n",
    "# df.info()"
   ]
  },
  {
   "cell_type": "code",
   "execution_count": 14,
   "id": "f0d15067-5e53-4b26-ab1f-f28889be6564",
   "metadata": {},
   "outputs": [
    {
     "name": "stderr",
     "output_type": "stream",
     "text": [
      "c:\\_mlUc1\\mlEnv\\lib\\site-packages\\tqdm\\auto.py:21: TqdmWarning: IProgress not found. Please update jupyter and ipywidgets. See https://ipywidgets.readthedocs.io/en/stable/user_install.html\n",
      "  from .autonotebook import tqdm as notebook_tqdm\n"
     ]
    }
   ],
   "source": [
    "# Carregando a biblioca/modulos\n",
    "from prophet import Prophet\n",
    "\n",
    "# Criar uma instância do modelo\n",
    "model = Prophet()"
   ]
  },
  {
   "cell_type": "code",
   "execution_count": 15,
   "id": "4ab5a1a5-b00d-4a03-84e9-3be432c4faca",
   "metadata": {},
   "outputs": [
    {
     "name": "stderr",
     "output_type": "stream",
     "text": [
      "20:01:42 - cmdstanpy - INFO - Chain [1] start processing\n",
      "20:01:42 - cmdstanpy - INFO - Chain [1] done processing\n"
     ]
    },
    {
     "data": {
      "text/plain": [
       "<prophet.forecaster.Prophet at 0x11d122d7640>"
      ]
     },
     "execution_count": 15,
     "metadata": {},
     "output_type": "execute_result"
    }
   ],
   "source": [
    "model.fit(df)"
   ]
  },
  {
   "cell_type": "code",
   "execution_count": 16,
   "id": "ac725902-2f98-4b78-bfe3-f6ff78a483a1",
   "metadata": {},
   "outputs": [
    {
     "name": "stdout",
     "output_type": "stream",
     "text": [
      "<class 'pandas.core.frame.DataFrame'>\n",
      "RangeIndex: 20 entries, 0 to 19\n",
      "Data columns (total 1 columns):\n",
      " #   Column  Non-Null Count  Dtype         \n",
      "---  ------  --------------  -----         \n",
      " 0   ds      20 non-null     datetime64[ns]\n",
      "dtypes: datetime64[ns](1)\n",
      "memory usage: 288.0 bytes\n"
     ]
    },
    {
     "data": {
      "text/html": [
       "<div>\n",
       "<style scoped>\n",
       "    .dataframe tbody tr th:only-of-type {\n",
       "        vertical-align: middle;\n",
       "    }\n",
       "\n",
       "    .dataframe tbody tr th {\n",
       "        vertical-align: top;\n",
       "    }\n",
       "\n",
       "    .dataframe thead th {\n",
       "        text-align: right;\n",
       "    }\n",
       "</style>\n",
       "<table border=\"1\" class=\"dataframe\">\n",
       "  <thead>\n",
       "    <tr style=\"text-align: right;\">\n",
       "      <th></th>\n",
       "      <th>ds</th>\n",
       "    </tr>\n",
       "  </thead>\n",
       "  <tbody>\n",
       "    <tr>\n",
       "      <th>10</th>\n",
       "      <td>2025-07-04</td>\n",
       "    </tr>\n",
       "    <tr>\n",
       "      <th>11</th>\n",
       "      <td>2025-07-05</td>\n",
       "    </tr>\n",
       "    <tr>\n",
       "      <th>12</th>\n",
       "      <td>2025-07-06</td>\n",
       "    </tr>\n",
       "    <tr>\n",
       "      <th>13</th>\n",
       "      <td>2025-07-07</td>\n",
       "    </tr>\n",
       "    <tr>\n",
       "      <th>14</th>\n",
       "      <td>2025-07-08</td>\n",
       "    </tr>\n",
       "    <tr>\n",
       "      <th>15</th>\n",
       "      <td>2025-07-09</td>\n",
       "    </tr>\n",
       "    <tr>\n",
       "      <th>16</th>\n",
       "      <td>2025-07-10</td>\n",
       "    </tr>\n",
       "    <tr>\n",
       "      <th>17</th>\n",
       "      <td>2025-07-11</td>\n",
       "    </tr>\n",
       "    <tr>\n",
       "      <th>18</th>\n",
       "      <td>2025-07-12</td>\n",
       "    </tr>\n",
       "    <tr>\n",
       "      <th>19</th>\n",
       "      <td>2025-07-13</td>\n",
       "    </tr>\n",
       "  </tbody>\n",
       "</table>\n",
       "</div>"
      ],
      "text/plain": [
       "           ds\n",
       "10 2025-07-04\n",
       "11 2025-07-05\n",
       "12 2025-07-06\n",
       "13 2025-07-07\n",
       "14 2025-07-08\n",
       "15 2025-07-09\n",
       "16 2025-07-10\n",
       "17 2025-07-11\n",
       "18 2025-07-12\n",
       "19 2025-07-13"
      ]
     },
     "execution_count": 16,
     "metadata": {},
     "output_type": "execute_result"
    }
   ],
   "source": [
    "# Criar datas futuras (5 dias a mais)\n",
    "future = model.make_future_dataframe(periods=10)\n",
    "\n",
    "future.info()\n",
    "\n",
    "future.tail(10)"
   ]
  },
  {
   "cell_type": "code",
   "execution_count": 17,
   "id": "5326d897-7f9a-49cd-813c-20efaeb55836",
   "metadata": {},
   "outputs": [
    {
     "name": "stdout",
     "output_type": "stream",
     "text": [
      "<class 'pandas.core.frame.DataFrame'>\n",
      "RangeIndex: 20 entries, 0 to 19\n",
      "Data columns (total 16 columns):\n",
      " #   Column                      Non-Null Count  Dtype         \n",
      "---  ------                      --------------  -----         \n",
      " 0   ds                          20 non-null     datetime64[ns]\n",
      " 1   trend                       20 non-null     float64       \n",
      " 2   yhat_lower                  20 non-null     float64       \n",
      " 3   yhat_upper                  20 non-null     float64       \n",
      " 4   trend_lower                 20 non-null     float64       \n",
      " 5   trend_upper                 20 non-null     float64       \n",
      " 6   additive_terms              20 non-null     float64       \n",
      " 7   additive_terms_lower        20 non-null     float64       \n",
      " 8   additive_terms_upper        20 non-null     float64       \n",
      " 9   weekly                      20 non-null     float64       \n",
      " 10  weekly_lower                20 non-null     float64       \n",
      " 11  weekly_upper                20 non-null     float64       \n",
      " 12  multiplicative_terms        20 non-null     float64       \n",
      " 13  multiplicative_terms_lower  20 non-null     float64       \n",
      " 14  multiplicative_terms_upper  20 non-null     float64       \n",
      " 15  yhat                        20 non-null     float64       \n",
      "dtypes: datetime64[ns](1), float64(15)\n",
      "memory usage: 2.6 KB\n"
     ]
    },
    {
     "data": {
      "text/html": [
       "<div>\n",
       "<style scoped>\n",
       "    .dataframe tbody tr th:only-of-type {\n",
       "        vertical-align: middle;\n",
       "    }\n",
       "\n",
       "    .dataframe tbody tr th {\n",
       "        vertical-align: top;\n",
       "    }\n",
       "\n",
       "    .dataframe thead th {\n",
       "        text-align: right;\n",
       "    }\n",
       "</style>\n",
       "<table border=\"1\" class=\"dataframe\">\n",
       "  <thead>\n",
       "    <tr style=\"text-align: right;\">\n",
       "      <th></th>\n",
       "      <th>ds</th>\n",
       "      <th>trend</th>\n",
       "      <th>yhat_lower</th>\n",
       "      <th>yhat_upper</th>\n",
       "      <th>trend_lower</th>\n",
       "      <th>trend_upper</th>\n",
       "      <th>additive_terms</th>\n",
       "      <th>additive_terms_lower</th>\n",
       "      <th>additive_terms_upper</th>\n",
       "      <th>weekly</th>\n",
       "      <th>weekly_lower</th>\n",
       "      <th>weekly_upper</th>\n",
       "      <th>multiplicative_terms</th>\n",
       "      <th>multiplicative_terms_lower</th>\n",
       "      <th>multiplicative_terms_upper</th>\n",
       "      <th>yhat</th>\n",
       "    </tr>\n",
       "  </thead>\n",
       "  <tbody>\n",
       "    <tr>\n",
       "      <th>0</th>\n",
       "      <td>2025-06-02</td>\n",
       "      <td>3.143268</td>\n",
       "      <td>5.658891</td>\n",
       "      <td>5.676735</td>\n",
       "      <td>3.143268</td>\n",
       "      <td>3.143268</td>\n",
       "      <td>2.524955</td>\n",
       "      <td>2.524955</td>\n",
       "      <td>2.524955</td>\n",
       "      <td>2.524955</td>\n",
       "      <td>2.524955</td>\n",
       "      <td>2.524955</td>\n",
       "      <td>0.0</td>\n",
       "      <td>0.0</td>\n",
       "      <td>0.0</td>\n",
       "      <td>5.668223</td>\n",
       "    </tr>\n",
       "    <tr>\n",
       "      <th>1</th>\n",
       "      <td>2025-06-03</td>\n",
       "      <td>3.114125</td>\n",
       "      <td>5.641923</td>\n",
       "      <td>5.659324</td>\n",
       "      <td>3.114125</td>\n",
       "      <td>3.114125</td>\n",
       "      <td>2.536818</td>\n",
       "      <td>2.536818</td>\n",
       "      <td>2.536818</td>\n",
       "      <td>2.536818</td>\n",
       "      <td>2.536818</td>\n",
       "      <td>2.536818</td>\n",
       "      <td>0.0</td>\n",
       "      <td>0.0</td>\n",
       "      <td>0.0</td>\n",
       "      <td>5.650943</td>\n",
       "    </tr>\n",
       "    <tr>\n",
       "      <th>2</th>\n",
       "      <td>2025-06-04</td>\n",
       "      <td>3.101596</td>\n",
       "      <td>5.618001</td>\n",
       "      <td>5.635643</td>\n",
       "      <td>3.101596</td>\n",
       "      <td>3.101596</td>\n",
       "      <td>2.525179</td>\n",
       "      <td>2.525179</td>\n",
       "      <td>2.525179</td>\n",
       "      <td>2.525179</td>\n",
       "      <td>2.525179</td>\n",
       "      <td>2.525179</td>\n",
       "      <td>0.0</td>\n",
       "      <td>0.0</td>\n",
       "      <td>0.0</td>\n",
       "      <td>5.626776</td>\n",
       "    </tr>\n",
       "    <tr>\n",
       "      <th>3</th>\n",
       "      <td>2025-06-05</td>\n",
       "      <td>3.089068</td>\n",
       "      <td>5.583283</td>\n",
       "      <td>5.601411</td>\n",
       "      <td>3.089068</td>\n",
       "      <td>3.089068</td>\n",
       "      <td>2.503047</td>\n",
       "      <td>2.503047</td>\n",
       "      <td>2.503047</td>\n",
       "      <td>2.503047</td>\n",
       "      <td>2.503047</td>\n",
       "      <td>2.503047</td>\n",
       "      <td>0.0</td>\n",
       "      <td>0.0</td>\n",
       "      <td>0.0</td>\n",
       "      <td>5.592115</td>\n",
       "    </tr>\n",
       "    <tr>\n",
       "      <th>4</th>\n",
       "      <td>2025-06-06</td>\n",
       "      <td>3.076539</td>\n",
       "      <td>5.550544</td>\n",
       "      <td>5.568571</td>\n",
       "      <td>3.076539</td>\n",
       "      <td>3.076539</td>\n",
       "      <td>2.482861</td>\n",
       "      <td>2.482861</td>\n",
       "      <td>2.482861</td>\n",
       "      <td>2.482861</td>\n",
       "      <td>2.482861</td>\n",
       "      <td>2.482861</td>\n",
       "      <td>0.0</td>\n",
       "      <td>0.0</td>\n",
       "      <td>0.0</td>\n",
       "      <td>5.559400</td>\n",
       "    </tr>\n",
       "  </tbody>\n",
       "</table>\n",
       "</div>"
      ],
      "text/plain": [
       "          ds     trend  yhat_lower  yhat_upper  trend_lower  trend_upper  \\\n",
       "0 2025-06-02  3.143268    5.658891    5.676735     3.143268     3.143268   \n",
       "1 2025-06-03  3.114125    5.641923    5.659324     3.114125     3.114125   \n",
       "2 2025-06-04  3.101596    5.618001    5.635643     3.101596     3.101596   \n",
       "3 2025-06-05  3.089068    5.583283    5.601411     3.089068     3.089068   \n",
       "4 2025-06-06  3.076539    5.550544    5.568571     3.076539     3.076539   \n",
       "\n",
       "   additive_terms  additive_terms_lower  additive_terms_upper    weekly  \\\n",
       "0        2.524955              2.524955              2.524955  2.524955   \n",
       "1        2.536818              2.536818              2.536818  2.536818   \n",
       "2        2.525179              2.525179              2.525179  2.525179   \n",
       "3        2.503047              2.503047              2.503047  2.503047   \n",
       "4        2.482861              2.482861              2.482861  2.482861   \n",
       "\n",
       "   weekly_lower  weekly_upper  multiplicative_terms  \\\n",
       "0      2.524955      2.524955                   0.0   \n",
       "1      2.536818      2.536818                   0.0   \n",
       "2      2.525179      2.525179                   0.0   \n",
       "3      2.503047      2.503047                   0.0   \n",
       "4      2.482861      2.482861                   0.0   \n",
       "\n",
       "   multiplicative_terms_lower  multiplicative_terms_upper      yhat  \n",
       "0                         0.0                         0.0  5.668223  \n",
       "1                         0.0                         0.0  5.650943  \n",
       "2                         0.0                         0.0  5.626776  \n",
       "3                         0.0                         0.0  5.592115  \n",
       "4                         0.0                         0.0  5.559400  "
      ]
     },
     "execution_count": 17,
     "metadata": {},
     "output_type": "execute_result"
    }
   ],
   "source": [
    "# Gerar previsões\n",
    "forecast = model.predict(future)\n",
    "\n",
    "forecast.info ()\n",
    "\n",
    "forecast.head ()"
   ]
  },
  {
   "cell_type": "code",
   "execution_count": 18,
   "id": "7437ea45-2223-4748-a80c-5857b90d2516",
   "metadata": {},
   "outputs": [
    {
     "name": "stdout",
     "output_type": "stream",
     "text": [
      "=== Previsao ===\n",
      "           ds      yhat  yhat_lower  yhat_upper\n",
      "0  2025-06-02  5.668223    5.658891    5.676735\n",
      "1  2025-06-03  5.650943    5.641923    5.659324\n",
      "2  2025-06-04  5.626776    5.618001    5.635643\n",
      "3  2025-06-05  5.592115    5.583283    5.601411\n",
      "4  2025-06-06  5.559400    5.550544    5.568571\n",
      "5  2025-06-09  5.563975    5.555003    5.573079\n",
      "6  2025-06-10  5.570181    5.561947    5.578400\n",
      "7  2025-07-01  5.451360    5.442662    5.459944\n",
      "8  2025-07-02  5.434017    5.425476    5.442862\n",
      "9  2025-07-03  5.406181    5.397499    5.415230\n",
      "10 2025-07-04  5.380291    5.371299    5.389774\n",
      "11 2025-07-05 -3.394712   -3.404266   -3.385027\n",
      "12 2025-07-06 -3.400400   -3.411292   -3.389074\n",
      "13 2025-07-07  5.405274    5.392618    5.418472\n",
      "14 2025-07-08  5.411433    5.395290    5.428649\n",
      "15 2025-07-09  5.394090    5.373456    5.415943\n",
      "16 2025-07-10  5.366254    5.339659    5.394125\n",
      "17 2025-07-11  5.340364    5.308905    5.375254\n",
      "18 2025-07-12 -3.434639   -3.471833   -3.393570\n",
      "19 2025-07-13 -3.440327   -3.485265   -3.392342\n"
     ]
    }
   ],
   "source": [
    "print(\"=== Previsao ===\")\n",
    "print(forecast[['ds', 'yhat', 'yhat_lower', 'yhat_upper']])"
   ]
  },
  {
   "cell_type": "code",
   "execution_count": 19,
   "id": "9dbc98c8-83a5-4866-b444-874feb884401",
   "metadata": {},
   "outputs": [
    {
     "data": {
      "image/png": "[encoded data removed]",
      "text/plain": [
       "<Figure size 1000x600 with 1 Axes>"
      ]
     },
     "metadata": {},
     "output_type": "display_data"
    }
   ],
   "source": [
    "from prophet.plot import plot\n",
    "import matplotlib.pyplot as plt  # Required for displaying the plot\n",
    "\n",
    "# Generate the plot\n",
    "fig = plot(model, forecast)\n",
    "plt.title(\"Time Series Forecast\")\n",
    "plt.xlabel(\"Data\")\n",
    "plt.ylabel(\"Valor\")\n",
    "plt.show()\n"
   ]
  },
  {
   "cell_type": "markdown",
   "id": "90cfeaef-3224-4616-b413-481b573bbca5",
   "metadata": {},
   "source": [
    "### 5.2 Parâmetros Importantes\n",
    "```python\n",
    "model = Prophet(\n",
    "    yearly_seasonality=True,  # Sazonalidade anual\n",
    "    weekly_seasonality=True,  # Sazonalidade semanal\n",
    "    daily_seasonality=False,  # Sazonalidade diária\n",
    "    changepoint_prior_scale=0.05  # Flexibilidade da tendência\n",
    ")\n",
    "```"
   ]
  }
 ],
 "metadata": {
  "kernelspec": {
   "display_name": "Python ML (venv)",
   "language": "python",
   "name": "machine_learning"
  },
  "language_info": {
   "codemirror_mode": {
    "name": "ipython",
    "version": 3
   },
   "file_extension": ".py",
   "mimetype": "text/x-python",
   "name": "python",
   "nbconvert_exporter": "python",
   "pygments_lexer": "ipython3",
   "version": "3.10.5"
  }
 },
 "nbformat": 4,
 "nbformat_minor": 5
}
