{
 "cells": [
  {
   "cell_type": "code",
   "execution_count": 1,
   "id": "061047df-5cda-40a2-a846-7dba8badcb9c",
   "metadata": {},
   "outputs": [],
   "source": [
    "import pandas as pd\n",
    "import numpy as np\n",
    "import torch\n",
    "import torch.nn as nn\n",
    "import torch.optim as optim\n",
    "from sklearn.model_selection import train_test_split\n",
    "import matplotlib.pyplot as plt\n",
    "import seaborn as sns"
   ]
  },
  {
   "cell_type": "code",
   "execution_count": 3,
   "id": "39be47c8-9527-4b76-90c8-8e939c03006b",
   "metadata": {},
   "outputs": [],
   "source": [
    "df=pd.read_csv(\"dataset/originais/dataset_sudeste_simples_realista_outliers-2k.csv\")"
   ]
  },
  {
   "cell_type": "code",
   "execution_count": 4,
   "id": "88009fb0-2375-4088-b8aa-850ab9a167a8",
   "metadata": {},
   "outputs": [
    {
     "data": {
      "text/html": [
       "<div>\n",
       "<style scoped>\n",
       "    .dataframe tbody tr th:only-of-type {\n",
       "        vertical-align: middle;\n",
       "    }\n",
       "\n",
       "    .dataframe tbody tr th {\n",
       "        vertical-align: top;\n",
       "    }\n",
       "\n",
       "    .dataframe thead th {\n",
       "        text-align: right;\n",
       "    }\n",
       "</style>\n",
       "<table border=\"1\" class=\"dataframe\">\n",
       "  <thead>\n",
       "    <tr style=\"text-align: right;\">\n",
       "      <th></th>\n",
       "      <th>id</th>\n",
       "      <th>idade</th>\n",
       "      <th>renda</th>\n",
       "      <th>cidade</th>\n",
       "      <th>categoria</th>\n",
       "      <th>nota</th>\n",
       "      <th>feedback</th>\n",
       "    </tr>\n",
       "  </thead>\n",
       "  <tbody>\n",
       "    <tr>\n",
       "      <th>0</th>\n",
       "      <td>1</td>\n",
       "      <td>39.0</td>\n",
       "      <td>5112.57</td>\n",
       "      <td>Belo Horizonte</td>\n",
       "      <td>A</td>\n",
       "      <td>4.5</td>\n",
       "      <td>Bom</td>\n",
       "    </tr>\n",
       "    <tr>\n",
       "      <th>1</th>\n",
       "      <td>2</td>\n",
       "      <td>64.0</td>\n",
       "      <td>9510.34</td>\n",
       "      <td>Belo Horizonte</td>\n",
       "      <td>B</td>\n",
       "      <td>5.4</td>\n",
       "      <td>Ruim</td>\n",
       "    </tr>\n",
       "    <tr>\n",
       "      <th>2</th>\n",
       "      <td>3</td>\n",
       "      <td>61.0</td>\n",
       "      <td>8970.80</td>\n",
       "      <td>São Paulo</td>\n",
       "      <td>B</td>\n",
       "      <td>5.0</td>\n",
       "      <td>Ruim</td>\n",
       "    </tr>\n",
       "    <tr>\n",
       "      <th>3</th>\n",
       "      <td>4</td>\n",
       "      <td>61.0</td>\n",
       "      <td>8526.52</td>\n",
       "      <td>Rio de Janeiro</td>\n",
       "      <td>A</td>\n",
       "      <td>1.8</td>\n",
       "      <td>Bom</td>\n",
       "    </tr>\n",
       "    <tr>\n",
       "      <th>4</th>\n",
       "      <td>5</td>\n",
       "      <td>53.0</td>\n",
       "      <td>3531.76</td>\n",
       "      <td>Vitória</td>\n",
       "      <td>B</td>\n",
       "      <td>5.5</td>\n",
       "      <td>Bom</td>\n",
       "    </tr>\n",
       "  </tbody>\n",
       "</table>\n",
       "</div>"
      ],
      "text/plain": [
       "   id  idade    renda          cidade categoria  nota feedback\n",
       "0   1   39.0  5112.57  Belo Horizonte         A   4.5      Bom\n",
       "1   2   64.0  9510.34  Belo Horizonte         B   5.4     Ruim\n",
       "2   3   61.0  8970.80       São Paulo         B   5.0     Ruim\n",
       "3   4   61.0  8526.52  Rio de Janeiro         A   1.8      Bom\n",
       "4   5   53.0  3531.76         Vitória         B   5.5      Bom"
      ]
     },
     "execution_count": 4,
     "metadata": {},
     "output_type": "execute_result"
    }
   ],
   "source": [
    "df.head()"
   ]
  },
  {
   "cell_type": "code",
   "execution_count": 5,
   "id": "3f431e5a-9bbc-4921-b379-5802bed0624c",
   "metadata": {},
   "outputs": [
    {
     "name": "stdout",
     "output_type": "stream",
     "text": [
      "        id  idade     renda          cidade categoria  nota feedback\n",
      "1990  1991   42.0  11619.13       São Paulo         B   8.2     Ruim\n",
      "1991  1992   36.0  12318.31  Belo Horizonte         B   5.6  Regular\n",
      "1992  1993   59.0   6357.74  Belo Horizonte         B   8.0      Bom\n",
      "1993  1994   33.0   5594.33       São Paulo         B   4.4      Bom\n",
      "1994  1995   52.0   8335.10  Belo Horizonte         B   9.5      Bom\n",
      "1995  1996   66.0   7223.47  Belo Horizonte         B   3.8     Ruim\n",
      "1996  1997   52.0  11712.34  Rio de Janeiro         A   8.4  Regular\n",
      "1997  1998   48.0   7679.22         Vitória         A   0.1  Regular\n",
      "1998  1999   27.0   3062.80         Vitória         B   2.1      Bom\n",
      "1999  2000   21.0  12849.76       São Paulo         B   6.3  Regular\n"
     ]
    }
   ],
   "source": [
    "print(df.tail(10))"
   ]
  },
  {
   "cell_type": "code",
   "execution_count": 6,
   "id": "5350f652-4ccc-4b6b-a617-bf7e46ad40d3",
   "metadata": {},
   "outputs": [
    {
     "name": "stdout",
     "output_type": "stream",
     "text": [
      "<class 'pandas.core.frame.DataFrame'>\n",
      "RangeIndex: 2000 entries, 0 to 1999\n",
      "Data columns (total 7 columns):\n",
      " #   Column     Non-Null Count  Dtype  \n",
      "---  ------     --------------  -----  \n",
      " 0   id         2000 non-null   int64  \n",
      " 1   idade      1982 non-null   float64\n",
      " 2   renda      1983 non-null   float64\n",
      " 3   cidade     1988 non-null   object \n",
      " 4   categoria  1979 non-null   object \n",
      " 5   nota       1970 non-null   float64\n",
      " 6   feedback   1975 non-null   object \n",
      "dtypes: float64(3), int64(1), object(3)\n",
      "memory usage: 109.5+ KB\n"
     ]
    }
   ],
   "source": [
    "df.info()\n"
   ]
  },
  {
   "cell_type": "code",
   "execution_count": 7,
   "id": "9ec57402-2f4c-4f12-8223-aeb04dc8469c",
   "metadata": {},
   "outputs": [
    {
     "data": {
      "text/html": [
       "<div>\n",
       "<style scoped>\n",
       "    .dataframe tbody tr th:only-of-type {\n",
       "        vertical-align: middle;\n",
       "    }\n",
       "\n",
       "    .dataframe tbody tr th {\n",
       "        vertical-align: top;\n",
       "    }\n",
       "\n",
       "    .dataframe thead th {\n",
       "        text-align: right;\n",
       "    }\n",
       "</style>\n",
       "<table border=\"1\" class=\"dataframe\">\n",
       "  <thead>\n",
       "    <tr style=\"text-align: right;\">\n",
       "      <th></th>\n",
       "      <th>id</th>\n",
       "      <th>idade</th>\n",
       "      <th>renda</th>\n",
       "      <th>nota</th>\n",
       "    </tr>\n",
       "  </thead>\n",
       "  <tbody>\n",
       "    <tr>\n",
       "      <th>count</th>\n",
       "      <td>2000.000000</td>\n",
       "      <td>1982.000000</td>\n",
       "      <td>1983.000000</td>\n",
       "      <td>1970.000000</td>\n",
       "    </tr>\n",
       "    <tr>\n",
       "      <th>mean</th>\n",
       "      <td>1000.500000</td>\n",
       "      <td>43.570131</td>\n",
       "      <td>7204.110968</td>\n",
       "      <td>4.965228</td>\n",
       "    </tr>\n",
       "    <tr>\n",
       "      <th>std</th>\n",
       "      <td>577.494589</td>\n",
       "      <td>16.166064</td>\n",
       "      <td>3573.795505</td>\n",
       "      <td>2.940147</td>\n",
       "    </tr>\n",
       "    <tr>\n",
       "      <th>min</th>\n",
       "      <td>1.000000</td>\n",
       "      <td>1.000000</td>\n",
       "      <td>422.990000</td>\n",
       "      <td>-3.700000</td>\n",
       "    </tr>\n",
       "    <tr>\n",
       "      <th>25%</th>\n",
       "      <td>500.750000</td>\n",
       "      <td>30.000000</td>\n",
       "      <td>4189.235000</td>\n",
       "      <td>2.500000</td>\n",
       "    </tr>\n",
       "    <tr>\n",
       "      <th>50%</th>\n",
       "      <td>1000.500000</td>\n",
       "      <td>44.000000</td>\n",
       "      <td>7079.250000</td>\n",
       "      <td>5.000000</td>\n",
       "    </tr>\n",
       "    <tr>\n",
       "      <th>75%</th>\n",
       "      <td>1500.250000</td>\n",
       "      <td>57.000000</td>\n",
       "      <td>10111.805000</td>\n",
       "      <td>7.300000</td>\n",
       "    </tr>\n",
       "    <tr>\n",
       "      <th>max</th>\n",
       "      <td>2000.000000</td>\n",
       "      <td>118.000000</td>\n",
       "      <td>33739.810000</td>\n",
       "      <td>14.600000</td>\n",
       "    </tr>\n",
       "  </tbody>\n",
       "</table>\n",
       "</div>"
      ],
      "text/plain": [
       "                id        idade         renda         nota\n",
       "count  2000.000000  1982.000000   1983.000000  1970.000000\n",
       "mean   1000.500000    43.570131   7204.110968     4.965228\n",
       "std     577.494589    16.166064   3573.795505     2.940147\n",
       "min       1.000000     1.000000    422.990000    -3.700000\n",
       "25%     500.750000    30.000000   4189.235000     2.500000\n",
       "50%    1000.500000    44.000000   7079.250000     5.000000\n",
       "75%    1500.250000    57.000000  10111.805000     7.300000\n",
       "max    2000.000000   118.000000  33739.810000    14.600000"
      ]
     },
     "execution_count": 7,
     "metadata": {},
     "output_type": "execute_result"
    }
   ],
   "source": [
    "df.describe()"
   ]
  },
  {
   "cell_type": "code",
   "execution_count": 8,
   "id": "00440c51-fa99-46bc-8c25-49892975b7e3",
   "metadata": {},
   "outputs": [
    {
     "name": "stdout",
     "output_type": "stream",
     "text": [
      "id            0\n",
      "idade        18\n",
      "renda        17\n",
      "cidade       12\n",
      "categoria    21\n",
      "nota         30\n",
      "feedback     25\n",
      "dtype: int64\n"
     ]
    }
   ],
   "source": [
    "print(df.isnull().sum())"
   ]
  },
  {
   "cell_type": "code",
   "execution_count": null,
   "id": "6b3c7ce0-38da-48ee-aed6-2f416dbfc672",
   "metadata": {},
   "outputs": [],
   "source": []
  }
 ],
 "metadata": {
  "kernelspec": {
   "display_name": "Python ML (venv)",
   "language": "python",
   "name": "machine_learning"
  },
  "language_info": {
   "codemirror_mode": {
    "name": "ipython",
    "version": 3
   },
   "file_extension": ".py",
   "mimetype": "text/x-python",
   "name": "python",
   "nbconvert_exporter": "python",
   "pygments_lexer": "ipython3",
   "version": "3.10.5"
  }
 },
 "nbformat": 4,
 "nbformat_minor": 5
}
