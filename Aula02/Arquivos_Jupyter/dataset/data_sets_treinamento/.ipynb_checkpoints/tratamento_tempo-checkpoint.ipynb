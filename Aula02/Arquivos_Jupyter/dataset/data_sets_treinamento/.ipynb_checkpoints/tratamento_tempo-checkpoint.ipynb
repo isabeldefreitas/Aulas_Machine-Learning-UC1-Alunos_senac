{
 "cells": [
  {
   "cell_type": "code",
   "execution_count": 1,
   "id": "9556889e-b1c0-4fd0-a100-858fb35fa659",
   "metadata": {},
   "outputs": [],
   "source": [
    "import pandas as pd \n"
   ]
  },
  {
   "cell_type": "code",
   "execution_count": 3,
   "id": "3416473d-c875-46b5-a519-10ceab9c1ccf",
   "metadata": {},
   "outputs": [],
   "source": [
    "arquivo1=pd.read_excel('INMET_SE_RJ_A610_PICODOCOUTO_01-01-2023_A_31-12-2023.xlsx')\n",
    "arquivo2=pd.read_excel('INMET_SE_RJ_A610_PICODOCOUTO_01-01-2024_A_31-12-2024.xlsx')\n",
    "arquivo3=pd.read_excel('INMET_SE_RJ_A610_PICODOCOUTO_01-01-2025_A_31-05-2025.xlsx')"
   ]
  },
  {
   "cell_type": "code",
   "execution_count": null,
   "id": "2380cb6b-cc5e-4e79-b762-9f8758324545",
   "metadata": {},
   "outputs": [],
   "source": [
    "df_tempo_pet=pd.concat[arquivo1, arquivo2, arquivo3]"
   ]
  }
 ],
 "metadata": {
  "kernelspec": {
   "display_name": "Python ML UC1 (venv)",
   "language": "python",
   "name": "machine_learning"
  },
  "language_info": {
   "codemirror_mode": {
    "name": "ipython",
    "version": 3
   },
   "file_extension": ".py",
   "mimetype": "text/x-python",
   "name": "python",
   "nbconvert_exporter": "python",
   "pygments_lexer": "ipython3",
   "version": "3.12.4"
  }
 },
 "nbformat": 4,
 "nbformat_minor": 5
}
