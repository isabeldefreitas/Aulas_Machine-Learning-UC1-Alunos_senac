{
 "cells": [
  {
   "cell_type": "code",
   "execution_count": 13,
   "id": "30ce3e5d-8b86-402d-9516-42f954cc2b77",
   "metadata": {},
   "outputs": [],
   "source": [
    "import pandas as pd\n",
    "import numpy as np\n",
    "from sklearn.preprocessing import StandardScaler, OneHotEncoder\n",
    "from sklearn.impute import SimpleImputer\n",
    "import matplotlib.pyplot as plt"
   ]
  },
  {
   "cell_type": "code",
   "execution_count": 2,
   "id": "ebd83641-4e5e-489b-a457-6296f7bd7ebe",
   "metadata": {},
   "outputs": [
    {
     "name": "stdout",
     "output_type": "stream",
     "text": [
      "   id  idade    renda          cidade categoria  nota feedback\n",
      "0   1   65.0  8912.27  Belo Horizonte         B   NaN      Bom\n",
      "1   2   51.0  2668.90  Belo Horizonte         B   0.6     Ruim\n",
      "2   3   35.0      NaN         Vitória         B   4.4  Regular\n",
      "3   4   45.0  3417.56       São Paulo         B   1.3      Bom\n",
      "4   5   56.0  7536.57  Rio de Janeiro         A   8.6      NaN\n",
      "5   6   53.0  7825.52       São Paulo         B   8.2  Regular\n",
      "6   7   28.0  3045.86  Belo Horizonte         B   3.8  Regular\n",
      "7   8   20.0  9873.58  Rio de Janeiro         B   4.6      Bom\n",
      "8   9   21.0  3103.06         Vitória         B   8.0  Regular\n",
      "9  10   56.0  7666.91  Belo Horizonte         A   9.2      Bom\n"
     ]
    }
   ],
   "source": [
    "df=pd.read_csv('dataset_sudeste_simples_realista_outliers-1k.csv')\n",
    "print(df.head(10))"
   ]
  },
  {
   "cell_type": "code",
   "execution_count": 3,
   "id": "223efc16-3de6-4e30-9a15-5cdf19246cef",
   "metadata": {},
   "outputs": [
    {
     "name": "stdout",
     "output_type": "stream",
     "text": [
      "       id  idade     renda          cidade categoria  nota feedback\n",
      "990   991   43.0  10996.85  Rio de Janeiro         A   3.4  Regular\n",
      "991   992   21.0   2181.99  Rio de Janeiro         B   0.5      Bom\n",
      "992   993   18.0  11640.36       São Paulo         B   6.1     Ruim\n",
      "993   994   27.0   4128.05         Vitória         B   9.8      Bom\n",
      "994   995   65.0   9331.14       São Paulo         A   5.9     Ruim\n",
      "995   996   46.0  11802.07         Vitória         B   0.8     Ruim\n",
      "996   997   69.0   4388.74         Vitória         A   2.7     Ruim\n",
      "997   998   66.0   9870.78  Belo Horizonte         B   7.7      Bom\n",
      "998   999   58.0   7311.47       São Paulo         B   5.8     Ruim\n",
      "999  1000   39.0  10524.22         Vitória         A   3.9  Regular\n"
     ]
    }
   ],
   "source": [
    "print(df.tail(10))"
   ]
  },
  {
   "cell_type": "code",
   "execution_count": 4,
   "id": "43a2f722-c959-4c35-91e6-9a037e37cd1f",
   "metadata": {},
   "outputs": [
    {
     "name": "stdout",
     "output_type": "stream",
     "text": [
      "<class 'pandas.core.frame.DataFrame'>\n",
      "RangeIndex: 1000 entries, 0 to 999\n",
      "Data columns (total 7 columns):\n",
      " #   Column     Non-Null Count  Dtype  \n",
      "---  ------     --------------  -----  \n",
      " 0   id         1000 non-null   int64  \n",
      " 1   idade      993 non-null    float64\n",
      " 2   renda      990 non-null    float64\n",
      " 3   cidade     992 non-null    object \n",
      " 4   categoria  990 non-null    object \n",
      " 5   nota       986 non-null    float64\n",
      " 6   feedback   992 non-null    object \n",
      "dtypes: float64(3), int64(1), object(3)\n",
      "memory usage: 54.8+ KB\n"
     ]
    }
   ],
   "source": [
    "df.info()"
   ]
  },
  {
   "cell_type": "code",
   "execution_count": 6,
   "id": "c9a47fa5-54ef-4ff4-a4bd-905287c36e4e",
   "metadata": {},
   "outputs": [
    {
     "data": {
      "text/html": [
       "<div>\n",
       "<style scoped>\n",
       "    .dataframe tbody tr th:only-of-type {\n",
       "        vertical-align: middle;\n",
       "    }\n",
       "\n",
       "    .dataframe tbody tr th {\n",
       "        vertical-align: top;\n",
       "    }\n",
       "\n",
       "    .dataframe thead th {\n",
       "        text-align: right;\n",
       "    }\n",
       "</style>\n",
       "<table border=\"1\" class=\"dataframe\">\n",
       "  <thead>\n",
       "    <tr style=\"text-align: right;\">\n",
       "      <th></th>\n",
       "      <th>id</th>\n",
       "      <th>idade</th>\n",
       "      <th>renda</th>\n",
       "      <th>nota</th>\n",
       "    </tr>\n",
       "  </thead>\n",
       "  <tbody>\n",
       "    <tr>\n",
       "      <th>count</th>\n",
       "      <td>1000.000000</td>\n",
       "      <td>993.000000</td>\n",
       "      <td>990.000000</td>\n",
       "      <td>986.000000</td>\n",
       "    </tr>\n",
       "    <tr>\n",
       "      <th>mean</th>\n",
       "      <td>500.500000</td>\n",
       "      <td>42.886203</td>\n",
       "      <td>7213.230515</td>\n",
       "      <td>5.136207</td>\n",
       "    </tr>\n",
       "    <tr>\n",
       "      <th>std</th>\n",
       "      <td>288.819436</td>\n",
       "      <td>16.023802</td>\n",
       "      <td>4092.152138</td>\n",
       "      <td>2.895801</td>\n",
       "    </tr>\n",
       "    <tr>\n",
       "      <th>min</th>\n",
       "      <td>1.000000</td>\n",
       "      <td>3.000000</td>\n",
       "      <td>473.610000</td>\n",
       "      <td>-3.600000</td>\n",
       "    </tr>\n",
       "    <tr>\n",
       "      <th>25%</th>\n",
       "      <td>250.750000</td>\n",
       "      <td>29.000000</td>\n",
       "      <td>3792.745000</td>\n",
       "      <td>2.800000</td>\n",
       "    </tr>\n",
       "    <tr>\n",
       "      <th>50%</th>\n",
       "      <td>500.500000</td>\n",
       "      <td>43.000000</td>\n",
       "      <td>7158.405000</td>\n",
       "      <td>5.200000</td>\n",
       "    </tr>\n",
       "    <tr>\n",
       "      <th>75%</th>\n",
       "      <td>750.250000</td>\n",
       "      <td>56.000000</td>\n",
       "      <td>10340.997500</td>\n",
       "      <td>7.400000</td>\n",
       "    </tr>\n",
       "    <tr>\n",
       "      <th>max</th>\n",
       "      <td>1000.000000</td>\n",
       "      <td>120.000000</td>\n",
       "      <td>45312.730000</td>\n",
       "      <td>12.700000</td>\n",
       "    </tr>\n",
       "  </tbody>\n",
       "</table>\n",
       "</div>"
      ],
      "text/plain": [
       "                id       idade         renda        nota\n",
       "count  1000.000000  993.000000    990.000000  986.000000\n",
       "mean    500.500000   42.886203   7213.230515    5.136207\n",
       "std     288.819436   16.023802   4092.152138    2.895801\n",
       "min       1.000000    3.000000    473.610000   -3.600000\n",
       "25%     250.750000   29.000000   3792.745000    2.800000\n",
       "50%     500.500000   43.000000   7158.405000    5.200000\n",
       "75%     750.250000   56.000000  10340.997500    7.400000\n",
       "max    1000.000000  120.000000  45312.730000   12.700000"
      ]
     },
     "execution_count": 6,
     "metadata": {},
     "output_type": "execute_result"
    }
   ],
   "source": [
    "df.describe()"
   ]
  },
  {
   "cell_type": "code",
   "execution_count": 7,
   "id": "0cffc270-457e-4e70-9de5-b2d6dfd6aaa3",
   "metadata": {},
   "outputs": [
    {
     "name": "stdout",
     "output_type": "stream",
     "text": [
      "id            0\n",
      "idade         7\n",
      "renda        10\n",
      "cidade        8\n",
      "categoria    10\n",
      "nota         14\n",
      "feedback      8\n",
      "dtype: int64\n"
     ]
    }
   ],
   "source": [
    "print(df.isnull().sum())"
   ]
  },
  {
   "cell_type": "code",
   "execution_count": 10,
   "id": "d1cb07c0-05b7-4f8e-abc7-d908180345ad",
   "metadata": {},
   "outputs": [],
   "source": [
    "imputer_media = SimpleImputer(strategy='mean')"
   ]
  },
  {
   "cell_type": "code",
   "execution_count": 11,
   "id": "83c70df4-7641-496a-bdcf-3a0dbba1a50e",
   "metadata": {},
   "outputs": [],
   "source": [
    "df[['idade', 'nota']] = imputer_media.fit_transform(df[['idade', 'nota']])"
   ]
  },
  {
   "cell_type": "code",
   "execution_count": 12,
   "id": "ec21217c-840c-40cb-a991-cd012d012e91",
   "metadata": {},
   "outputs": [],
   "source": [
    "imputer_mediana = SimpleImputer(strategy='mean')\n",
    "df[['renda']] = imputer_media.fit_transform(df[['renda']])"
   ]
  },
  {
   "cell_type": "code",
   "execution_count": 14,
   "id": "56fbdfaf-313a-462d-9222-c46094287bf1",
   "metadata": {},
   "outputs": [
    {
     "data": {
      "image/png": "[encoded data removed]",
      "text/plain": [
       "<Figure size 640x480 with 1 Axes>"
      ]
     },
     "metadata": {},
     "output_type": "display_data"
    }
   ],
   "source": [
    "plt.boxplot(df['idade'])\n",
    "plt.title(\"Boxplot - Idade\")\n",
    "plt.show()"
   ]
  },
  {
   "cell_type": "code",
   "execution_count": 16,
   "id": "1d9acb80-52c6-4a56-ac85-f45e7c803178",
   "metadata": {},
   "outputs": [
    {
     "data": {
      "image/png": "[encoded data removed]",
      "text/plain": [
       "<Figure size 640x480 with 1 Axes>"
      ]
     },
     "metadata": {},
     "output_type": "display_data"
    }
   ],
   "source": [
    "plt.boxplot(df['renda'])\n",
    "plt.title(\"Boxplot - Renda\")\n",
    "plt.show()"
   ]
  },
  {
   "cell_type": "code",
   "execution_count": 17,
   "id": "5735a0ce-f99e-424d-a50b-f66b7e3432e9",
   "metadata": {},
   "outputs": [
    {
     "data": {
      "image/png": "[encoded data removed]",
      "text/plain": [
       "<Figure size 640x480 with 1 Axes>"
      ]
     },
     "metadata": {},
     "output_type": "display_data"
    }
   ],
   "source": [
    "plt.boxplot(df['nota'])\n",
    "plt.title(\"Boxplot - Nota\")\n",
    "plt.show()"
   ]
  },
  {
   "cell_type": "code",
   "execution_count": 18,
   "id": "fdcf1a15-c89c-4c6a-80ff-cff84f117895",
   "metadata": {},
   "outputs": [],
   "source": [
    "# Realiza a códificação das coluas\n",
    "#encoder = OneHotEncoder(sparse_output=False, drop='first')  \n",
    "encoder = OneHotEncoder(sparse_output=False)  \n",
    "\n",
    "#categorias_codificadas = encoder.fit_transform(df[['cidade', 'categoria', 'feedback']])\n",
    "categorias_codificadas = encoder.fit_transform(df[['cidade']])\n",
    "\n",
    "# Converter os resultados do encoding para um DataFrame\n",
    "#df_categorias = pd.DataFrame(categorias_codificadas, columns=encoder.get_feature_names_out(['cidade', 'categoria', 'feedback']))\n",
    "df_categorias = pd.DataFrame(categorias_codificadas, columns=encoder.get_feature_names_out(['cidade']))\n",
    "\n",
    "# Resetar o índice do df original e concatenar com as novas colunas\n",
    "df_final = pd.concat([df.reset_index(drop=True), df_categorias], axis=1)\n",
    "\n",
    "# Remover as colunas categóricas originais (sem usar inplace)\n",
    "#df_final = df_final.drop(['cidade', 'categoria', 'feedback'], axis=1)\n",
    "df_final = df_final.drop(['cidade'], axis=1)"
   ]
  },
  {
   "cell_type": "code",
   "execution_count": 19,
   "id": "e1fd0747-c524-41c7-8828-33f9f8d61f66",
   "metadata": {},
   "outputs": [
    {
     "data": {
      "text/html": [
       "<div>\n",
       "<style scoped>\n",
       "    .dataframe tbody tr th:only-of-type {\n",
       "        vertical-align: middle;\n",
       "    }\n",
       "\n",
       "    .dataframe tbody tr th {\n",
       "        vertical-align: top;\n",
       "    }\n",
       "\n",
       "    .dataframe thead th {\n",
       "        text-align: right;\n",
       "    }\n",
       "</style>\n",
       "<table border=\"1\" class=\"dataframe\">\n",
       "  <thead>\n",
       "    <tr style=\"text-align: right;\">\n",
       "      <th></th>\n",
       "      <th>id</th>\n",
       "      <th>idade</th>\n",
       "      <th>renda</th>\n",
       "      <th>categoria</th>\n",
       "      <th>nota</th>\n",
       "      <th>feedback</th>\n",
       "      <th>cidade_Belo Horizonte</th>\n",
       "      <th>cidade_Rio de Janeiro</th>\n",
       "      <th>cidade_São Paulo</th>\n",
       "      <th>cidade_Vitória</th>\n",
       "      <th>cidade_nan</th>\n",
       "    </tr>\n",
       "  </thead>\n",
       "  <tbody>\n",
       "    <tr>\n",
       "      <th>0</th>\n",
       "      <td>1</td>\n",
       "      <td>65.0</td>\n",
       "      <td>8912.270000</td>\n",
       "      <td>B</td>\n",
       "      <td>5.136207</td>\n",
       "      <td>Bom</td>\n",
       "      <td>1.0</td>\n",
       "      <td>0.0</td>\n",
       "      <td>0.0</td>\n",
       "      <td>0.0</td>\n",
       "      <td>0.0</td>\n",
       "    </tr>\n",
       "    <tr>\n",
       "      <th>1</th>\n",
       "      <td>2</td>\n",
       "      <td>51.0</td>\n",
       "      <td>2668.900000</td>\n",
       "      <td>B</td>\n",
       "      <td>0.600000</td>\n",
       "      <td>Ruim</td>\n",
       "      <td>1.0</td>\n",
       "      <td>0.0</td>\n",
       "      <td>0.0</td>\n",
       "      <td>0.0</td>\n",
       "      <td>0.0</td>\n",
       "    </tr>\n",
       "    <tr>\n",
       "      <th>2</th>\n",
       "      <td>3</td>\n",
       "      <td>35.0</td>\n",
       "      <td>7213.230515</td>\n",
       "      <td>B</td>\n",
       "      <td>4.400000</td>\n",
       "      <td>Regular</td>\n",
       "      <td>0.0</td>\n",
       "      <td>0.0</td>\n",
       "      <td>0.0</td>\n",
       "      <td>1.0</td>\n",
       "      <td>0.0</td>\n",
       "    </tr>\n",
       "    <tr>\n",
       "      <th>3</th>\n",
       "      <td>4</td>\n",
       "      <td>45.0</td>\n",
       "      <td>3417.560000</td>\n",
       "      <td>B</td>\n",
       "      <td>1.300000</td>\n",
       "      <td>Bom</td>\n",
       "      <td>0.0</td>\n",
       "      <td>0.0</td>\n",
       "      <td>1.0</td>\n",
       "      <td>0.0</td>\n",
       "      <td>0.0</td>\n",
       "    </tr>\n",
       "    <tr>\n",
       "      <th>4</th>\n",
       "      <td>5</td>\n",
       "      <td>56.0</td>\n",
       "      <td>7536.570000</td>\n",
       "      <td>A</td>\n",
       "      <td>8.600000</td>\n",
       "      <td>NaN</td>\n",
       "      <td>0.0</td>\n",
       "      <td>1.0</td>\n",
       "      <td>0.0</td>\n",
       "      <td>0.0</td>\n",
       "      <td>0.0</td>\n",
       "    </tr>\n",
       "  </tbody>\n",
       "</table>\n",
       "</div>"
      ],
      "text/plain": [
       "   id  idade        renda categoria      nota feedback  cidade_Belo Horizonte  \\\n",
       "0   1   65.0  8912.270000         B  5.136207      Bom                    1.0   \n",
       "1   2   51.0  2668.900000         B  0.600000     Ruim                    1.0   \n",
       "2   3   35.0  7213.230515         B  4.400000  Regular                    0.0   \n",
       "3   4   45.0  3417.560000         B  1.300000      Bom                    0.0   \n",
       "4   5   56.0  7536.570000         A  8.600000      NaN                    0.0   \n",
       "\n",
       "   cidade_Rio de Janeiro  cidade_São Paulo  cidade_Vitória  cidade_nan  \n",
       "0                    0.0               0.0             0.0         0.0  \n",
       "1                    0.0               0.0             0.0         0.0  \n",
       "2                    0.0               0.0             1.0         0.0  \n",
       "3                    0.0               1.0             0.0         0.0  \n",
       "4                    1.0               0.0             0.0         0.0  "
      ]
     },
     "execution_count": 19,
     "metadata": {},
     "output_type": "execute_result"
    }
   ],
   "source": [
    "df_final.head()"
   ]
  },
  {
   "cell_type": "code",
   "execution_count": 21,
   "id": "e96d440c-6752-49dd-9ef4-84475ad41c9e",
   "metadata": {},
   "outputs": [],
   "source": [
    "scaler = StandardScaler()\n",
    "df_final[['idade', 'renda', 'nota']] = scaler.fit_transform(df_final[['idade', 'renda', 'nota']])\n"
   ]
  },
  {
   "cell_type": "code",
   "execution_count": 23,
   "id": "e0e117a5-2bae-4c5d-830f-9f77aef27a1e",
   "metadata": {},
   "outputs": [
    {
     "name": "stdout",
     "output_type": "stream",
     "text": [
      "      idade         renda          nota\n",
      "0  1.385613  4.174972e-01 -6.180782e-16\n",
      "1  0.508397 -1.116658e+00 -1.578360e+00\n",
      "2 -0.494136 -2.234860e-16 -2.561610e-01\n",
      "3  0.132447 -9.326927e-01 -1.334797e+00\n",
      "4  0.821688  7.945273e-02  1.205217e+00\n",
      "5  0.633713  1.504551e-01  1.066038e+00\n",
      "6 -0.932744 -1.024029e+00 -4.649293e-01\n",
      "7 -1.434011  6.537155e-01 -1.865716e-01\n",
      "8 -1.371352 -1.009973e+00  9.964485e-01\n",
      "9  0.821688  1.114806e-01  1.413985e+00\n"
     ]
    }
   ],
   "source": [
    "print(df_final[['idade', 'renda', 'nota']].head(10))"
   ]
  },
  {
   "cell_type": "code",
   "execution_count": 24,
   "id": "0ca42e4a-e156-46e4-be61-5741c04afb59",
   "metadata": {},
   "outputs": [
    {
     "data": {
      "text/html": [
       "<div>\n",
       "<style scoped>\n",
       "    .dataframe tbody tr th:only-of-type {\n",
       "        vertical-align: middle;\n",
       "    }\n",
       "\n",
       "    .dataframe tbody tr th {\n",
       "        vertical-align: top;\n",
       "    }\n",
       "\n",
       "    .dataframe thead th {\n",
       "        text-align: right;\n",
       "    }\n",
       "</style>\n",
       "<table border=\"1\" class=\"dataframe\">\n",
       "  <thead>\n",
       "    <tr style=\"text-align: right;\">\n",
       "      <th></th>\n",
       "      <th>idade</th>\n",
       "      <th>renda</th>\n",
       "      <th>nota</th>\n",
       "    </tr>\n",
       "  </thead>\n",
       "  <tbody>\n",
       "    <tr>\n",
       "      <th>count</th>\n",
       "      <td>1.000000e+03</td>\n",
       "      <td>1.000000e+03</td>\n",
       "      <td>1.000000e+03</td>\n",
       "    </tr>\n",
       "    <tr>\n",
       "      <th>mean</th>\n",
       "      <td>1.847411e-16</td>\n",
       "      <td>-1.278977e-16</td>\n",
       "      <td>-2.753353e-16</td>\n",
       "    </tr>\n",
       "    <tr>\n",
       "      <th>std</th>\n",
       "      <td>1.000500e+00</td>\n",
       "      <td>1.000500e+00</td>\n",
       "      <td>1.000500e+00</td>\n",
       "    </tr>\n",
       "    <tr>\n",
       "      <th>min</th>\n",
       "      <td>-2.499202e+00</td>\n",
       "      <td>-1.656096e+00</td>\n",
       "      <td>-3.039738e+00</td>\n",
       "    </tr>\n",
       "    <tr>\n",
       "      <th>25%</th>\n",
       "      <td>-8.700859e-01</td>\n",
       "      <td>-8.327537e-01</td>\n",
       "      <td>-7.780817e-01</td>\n",
       "    </tr>\n",
       "    <tr>\n",
       "      <th>50%</th>\n",
       "      <td>7.130300e-03</td>\n",
       "      <td>-4.442842e-03</td>\n",
       "      <td>2.219662e-02</td>\n",
       "    </tr>\n",
       "    <tr>\n",
       "      <th>75%</th>\n",
       "      <td>8.216882e-01</td>\n",
       "      <td>7.537988e-01</td>\n",
       "      <td>7.876802e-01</td>\n",
       "    </tr>\n",
       "    <tr>\n",
       "      <th>max</th>\n",
       "      <td>4.831819e+00</td>\n",
       "      <td>9.362015e+00</td>\n",
       "      <td>2.631800e+00</td>\n",
       "    </tr>\n",
       "  </tbody>\n",
       "</table>\n",
       "</div>"
      ],
      "text/plain": [
       "              idade         renda          nota\n",
       "count  1.000000e+03  1.000000e+03  1.000000e+03\n",
       "mean   1.847411e-16 -1.278977e-16 -2.753353e-16\n",
       "std    1.000500e+00  1.000500e+00  1.000500e+00\n",
       "min   -2.499202e+00 -1.656096e+00 -3.039738e+00\n",
       "25%   -8.700859e-01 -8.327537e-01 -7.780817e-01\n",
       "50%    7.130300e-03 -4.442842e-03  2.219662e-02\n",
       "75%    8.216882e-01  7.537988e-01  7.876802e-01\n",
       "max    4.831819e+00  9.362015e+00  2.631800e+00"
      ]
     },
     "execution_count": 24,
     "metadata": {},
     "output_type": "execute_result"
    }
   ],
   "source": [
    "df_final[['idade', 'renda', 'nota']].describe()"
   ]
  },
  {
   "cell_type": "code",
   "execution_count": 25,
   "id": "371e4afd-d200-4636-abb2-1c5f6f591430",
   "metadata": {},
   "outputs": [
    {
     "data": {
      "text/html": [
       "<div>\n",
       "<style scoped>\n",
       "    .dataframe tbody tr th:only-of-type {\n",
       "        vertical-align: middle;\n",
       "    }\n",
       "\n",
       "    .dataframe tbody tr th {\n",
       "        vertical-align: top;\n",
       "    }\n",
       "\n",
       "    .dataframe thead th {\n",
       "        text-align: right;\n",
       "    }\n",
       "</style>\n",
       "<table border=\"1\" class=\"dataframe\">\n",
       "  <thead>\n",
       "    <tr style=\"text-align: right;\">\n",
       "      <th></th>\n",
       "      <th>id</th>\n",
       "      <th>idade</th>\n",
       "      <th>renda</th>\n",
       "      <th>categoria</th>\n",
       "      <th>nota</th>\n",
       "      <th>feedback</th>\n",
       "      <th>cidade_Belo Horizonte</th>\n",
       "      <th>cidade_Rio de Janeiro</th>\n",
       "      <th>cidade_São Paulo</th>\n",
       "      <th>cidade_Vitória</th>\n",
       "      <th>cidade_nan</th>\n",
       "    </tr>\n",
       "  </thead>\n",
       "  <tbody>\n",
       "    <tr>\n",
       "      <th>0</th>\n",
       "      <td>1</td>\n",
       "      <td>1.385613</td>\n",
       "      <td>4.174972e-01</td>\n",
       "      <td>B</td>\n",
       "      <td>-6.180782e-16</td>\n",
       "      <td>Bom</td>\n",
       "      <td>1.0</td>\n",
       "      <td>0.0</td>\n",
       "      <td>0.0</td>\n",
       "      <td>0.0</td>\n",
       "      <td>0.0</td>\n",
       "    </tr>\n",
       "    <tr>\n",
       "      <th>1</th>\n",
       "      <td>2</td>\n",
       "      <td>0.508397</td>\n",
       "      <td>-1.116658e+00</td>\n",
       "      <td>B</td>\n",
       "      <td>-1.578360e+00</td>\n",
       "      <td>Ruim</td>\n",
       "      <td>1.0</td>\n",
       "      <td>0.0</td>\n",
       "      <td>0.0</td>\n",
       "      <td>0.0</td>\n",
       "      <td>0.0</td>\n",
       "    </tr>\n",
       "    <tr>\n",
       "      <th>2</th>\n",
       "      <td>3</td>\n",
       "      <td>-0.494136</td>\n",
       "      <td>-2.234860e-16</td>\n",
       "      <td>B</td>\n",
       "      <td>-2.561610e-01</td>\n",
       "      <td>Regular</td>\n",
       "      <td>0.0</td>\n",
       "      <td>0.0</td>\n",
       "      <td>0.0</td>\n",
       "      <td>1.0</td>\n",
       "      <td>0.0</td>\n",
       "    </tr>\n",
       "    <tr>\n",
       "      <th>3</th>\n",
       "      <td>4</td>\n",
       "      <td>0.132447</td>\n",
       "      <td>-9.326927e-01</td>\n",
       "      <td>B</td>\n",
       "      <td>-1.334797e+00</td>\n",
       "      <td>Bom</td>\n",
       "      <td>0.0</td>\n",
       "      <td>0.0</td>\n",
       "      <td>1.0</td>\n",
       "      <td>0.0</td>\n",
       "      <td>0.0</td>\n",
       "    </tr>\n",
       "    <tr>\n",
       "      <th>4</th>\n",
       "      <td>5</td>\n",
       "      <td>0.821688</td>\n",
       "      <td>7.945273e-02</td>\n",
       "      <td>A</td>\n",
       "      <td>1.205217e+00</td>\n",
       "      <td>NaN</td>\n",
       "      <td>0.0</td>\n",
       "      <td>1.0</td>\n",
       "      <td>0.0</td>\n",
       "      <td>0.0</td>\n",
       "      <td>0.0</td>\n",
       "    </tr>\n",
       "    <tr>\n",
       "      <th>5</th>\n",
       "      <td>6</td>\n",
       "      <td>0.633713</td>\n",
       "      <td>1.504551e-01</td>\n",
       "      <td>B</td>\n",
       "      <td>1.066038e+00</td>\n",
       "      <td>Regular</td>\n",
       "      <td>0.0</td>\n",
       "      <td>0.0</td>\n",
       "      <td>1.0</td>\n",
       "      <td>0.0</td>\n",
       "      <td>0.0</td>\n",
       "    </tr>\n",
       "    <tr>\n",
       "      <th>6</th>\n",
       "      <td>7</td>\n",
       "      <td>-0.932744</td>\n",
       "      <td>-1.024029e+00</td>\n",
       "      <td>B</td>\n",
       "      <td>-4.649293e-01</td>\n",
       "      <td>Regular</td>\n",
       "      <td>1.0</td>\n",
       "      <td>0.0</td>\n",
       "      <td>0.0</td>\n",
       "      <td>0.0</td>\n",
       "      <td>0.0</td>\n",
       "    </tr>\n",
       "    <tr>\n",
       "      <th>7</th>\n",
       "      <td>8</td>\n",
       "      <td>-1.434011</td>\n",
       "      <td>6.537155e-01</td>\n",
       "      <td>B</td>\n",
       "      <td>-1.865716e-01</td>\n",
       "      <td>Bom</td>\n",
       "      <td>0.0</td>\n",
       "      <td>1.0</td>\n",
       "      <td>0.0</td>\n",
       "      <td>0.0</td>\n",
       "      <td>0.0</td>\n",
       "    </tr>\n",
       "    <tr>\n",
       "      <th>8</th>\n",
       "      <td>9</td>\n",
       "      <td>-1.371352</td>\n",
       "      <td>-1.009973e+00</td>\n",
       "      <td>B</td>\n",
       "      <td>9.964485e-01</td>\n",
       "      <td>Regular</td>\n",
       "      <td>0.0</td>\n",
       "      <td>0.0</td>\n",
       "      <td>0.0</td>\n",
       "      <td>1.0</td>\n",
       "      <td>0.0</td>\n",
       "    </tr>\n",
       "    <tr>\n",
       "      <th>9</th>\n",
       "      <td>10</td>\n",
       "      <td>0.821688</td>\n",
       "      <td>1.114806e-01</td>\n",
       "      <td>A</td>\n",
       "      <td>1.413985e+00</td>\n",
       "      <td>Bom</td>\n",
       "      <td>1.0</td>\n",
       "      <td>0.0</td>\n",
       "      <td>0.0</td>\n",
       "      <td>0.0</td>\n",
       "      <td>0.0</td>\n",
       "    </tr>\n",
       "  </tbody>\n",
       "</table>\n",
       "</div>"
      ],
      "text/plain": [
       "   id     idade         renda categoria          nota feedback  \\\n",
       "0   1  1.385613  4.174972e-01         B -6.180782e-16      Bom   \n",
       "1   2  0.508397 -1.116658e+00         B -1.578360e+00     Ruim   \n",
       "2   3 -0.494136 -2.234860e-16         B -2.561610e-01  Regular   \n",
       "3   4  0.132447 -9.326927e-01         B -1.334797e+00      Bom   \n",
       "4   5  0.821688  7.945273e-02         A  1.205217e+00      NaN   \n",
       "5   6  0.633713  1.504551e-01         B  1.066038e+00  Regular   \n",
       "6   7 -0.932744 -1.024029e+00         B -4.649293e-01  Regular   \n",
       "7   8 -1.434011  6.537155e-01         B -1.865716e-01      Bom   \n",
       "8   9 -1.371352 -1.009973e+00         B  9.964485e-01  Regular   \n",
       "9  10  0.821688  1.114806e-01         A  1.413985e+00      Bom   \n",
       "\n",
       "   cidade_Belo Horizonte  cidade_Rio de Janeiro  cidade_São Paulo  \\\n",
       "0                    1.0                    0.0               0.0   \n",
       "1                    1.0                    0.0               0.0   \n",
       "2                    0.0                    0.0               0.0   \n",
       "3                    0.0                    0.0               1.0   \n",
       "4                    0.0                    1.0               0.0   \n",
       "5                    0.0                    0.0               1.0   \n",
       "6                    1.0                    0.0               0.0   \n",
       "7                    0.0                    1.0               0.0   \n",
       "8                    0.0                    0.0               0.0   \n",
       "9                    1.0                    0.0               0.0   \n",
       "\n",
       "   cidade_Vitória  cidade_nan  \n",
       "0             0.0         0.0  \n",
       "1             0.0         0.0  \n",
       "2             1.0         0.0  \n",
       "3             0.0         0.0  \n",
       "4             0.0         0.0  \n",
       "5             0.0         0.0  \n",
       "6             0.0         0.0  \n",
       "7             0.0         0.0  \n",
       "8             1.0         0.0  \n",
       "9             0.0         0.0  "
      ]
     },
     "execution_count": 25,
     "metadata": {},
     "output_type": "execute_result"
    }
   ],
   "source": [
    "df_final.head(10)"
   ]
  },
  {
   "cell_type": "code",
   "execution_count": 26,
   "id": "cec53923-1b69-4082-9c75-5ab9a9fa1cd4",
   "metadata": {},
   "outputs": [],
   "source": [
    "df_final.to_csv('dataset_sudeste_simples_realista_outliers-1FASE1.csv')"
   ]
  },
  {
   "cell_type": "code",
   "execution_count": null,
   "id": "92d20e07-b6b6-494f-9740-504270e6241d",
   "metadata": {},
   "outputs": [],
   "source": []
  }
 ],
 "metadata": {
  "kernelspec": {
   "display_name": "Python ML (venv)",
   "language": "python",
   "name": "machine_learning"
  },
  "language_info": {
   "codemirror_mode": {
    "name": "ipython",
    "version": 3
   },
   "file_extension": ".py",
   "mimetype": "text/x-python",
   "name": "python",
   "nbconvert_exporter": "python",
   "pygments_lexer": "ipython3",
   "version": "3.10.5"
  }
 },
 "nbformat": 4,
 "nbformat_minor": 5
}
