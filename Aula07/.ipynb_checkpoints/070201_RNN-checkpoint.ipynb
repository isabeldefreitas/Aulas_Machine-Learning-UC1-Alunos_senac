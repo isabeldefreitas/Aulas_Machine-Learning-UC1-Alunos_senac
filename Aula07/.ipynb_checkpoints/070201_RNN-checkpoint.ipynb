{
 "cells": [
  {
   "cell_type": "code",
   "execution_count": 1,
   "id": "3d102d20-ccc6-45e8-9d44-a8bbb98d9da1",
   "metadata": {},
   "outputs": [],
   "source": [
    "from keras.models import Sequential\n",
    "from keras.layers import Embedding, SimpleRNN, Dense\n",
    "from keras.datasets import imdb\n",
    "from keras.preprocessing import sequence"
   ]
  },
  {
   "cell_type": "code",
   "execution_count": 2,
   "id": "ed84c0b3-a906-4a11-a10d-455d445e9c52",
   "metadata": {},
   "outputs": [
    {
     "name": "stdout",
     "output_type": "stream",
     "text": [
      "Downloading data from https://storage.googleapis.com/tensorflow/tf-keras-datasets/imdb.npz\n",
      "\u001b[1m17464789/17464789\u001b[0m \u001b[32m━━━━━━━━━━━━━━━━━━━━\u001b[0m\u001b[37m\u001b[0m \u001b[1m3s\u001b[0m 0us/step\n"
     ]
    }
   ],
   "source": [
    "(X_train, y_train),(X_test, y_test)=imdb.load_data(num_words=10000)"
   ]
  },
  {
   "cell_type": "code",
   "execution_count": 3,
   "id": "f4243152-f4a8-48d3-a0b8-6bc36b39b8b5",
   "metadata": {},
   "outputs": [],
   "source": [
    "maxlen=500\n",
    "X_train=sequence.pad_sequences(X_train, maxlen=maxlen)\n",
    "X_test=sequence.pad_sequences(X_test, maxlen=maxlen)"
   ]
  },
  {
   "cell_type": "code",
   "execution_count": 4,
   "id": "61d709d9-2f84-4646-8441-39eafc340fe3",
   "metadata": {},
   "outputs": [],
   "source": [
    "model = Sequential()\n",
    "model.add(Embedding(input_dim=10000, output_dim=64)) #codifica as palavras em vetores\n",
    "model.add(SimpleRNN(units=64)) #camada RNN básica\n",
    "model.add(Dense(units=1, activation='sigmoid')) #saída: probabilidade de sentimento positivo"
   ]
  },
  {
   "cell_type": "code",
   "execution_count": null,
   "id": "d36c37c2-df4d-47ff-99d5-b2dba6e37f65",
   "metadata": {},
   "outputs": [],
   "source": [
    "#compilação do modelo\n",
    "model.compile(loss='binary_crossentropy', optimizer='adam', metrics=['accuracy'])"
   ]
  }
 ],
 "metadata": {
  "kernelspec": {
   "display_name": "Python ML (venv)",
   "language": "python",
   "name": "machine_learning"
  },
  "language_info": {
   "codemirror_mode": {
    "name": "ipython",
    "version": 3
   },
   "file_extension": ".py",
   "mimetype": "text/x-python",
   "name": "python",
   "nbconvert_exporter": "python",
   "pygments_lexer": "ipython3",
   "version": "3.10.5"
  }
 },
 "nbformat": 4,
 "nbformat_minor": 5
}
